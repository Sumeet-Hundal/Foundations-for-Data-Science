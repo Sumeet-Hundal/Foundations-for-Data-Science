{
 "cells": [
  {
   "cell_type": "code",
   "execution_count": 1,
   "metadata": {},
   "outputs": [],
   "source": [
    "import numpy as np\n",
    "import matplotlib.pyplot as plt\n",
    "import csv\n",
    "import pandas as pd"
   ]
  },
  {
   "cell_type": "code",
   "execution_count": 2,
   "metadata": {},
   "outputs": [],
   "source": [
    "#with open('train.csv') as train_file:\n",
    " #   train_reader=csv.reader(train_file, delimiter=',')\n",
    "  #  #for line in train_reader:\n",
    "   #     print (line)"
   ]
  },
  {
   "cell_type": "code",
   "execution_count": 233,
   "metadata": {},
   "outputs": [
    {
     "name": "stdout",
     "output_type": "stream",
     "text": [
      "<class 'pandas.core.frame.DataFrame'>\n",
      "RangeIndex: 891 entries, 0 to 890\n",
      "Data columns (total 12 columns):\n",
      "pass_num    891 non-null int64\n",
      "surv        891 non-null int64\n",
      "class       891 non-null int64\n",
      "name        891 non-null object\n",
      "sex         891 non-null object\n",
      "age         714 non-null float64\n",
      "sib         891 non-null int64\n",
      "parch       891 non-null int64\n",
      "ticket      891 non-null object\n",
      "fare        891 non-null float64\n",
      "cabin       204 non-null object\n",
      "embarked    889 non-null object\n",
      "dtypes: float64(2), int64(5), object(5)\n",
      "memory usage: 83.7+ KB\n"
     ]
    }
   ],
   "source": [
    "train_dt=pd.read_csv('train.csv', skiprows=1, names=[\"pass_num\", \"surv\", \"class\", \"name\", \"sex\", \"age\", \"sib\", \"parch\", \"ticket\", \"fare\", \"cabin\", \"embarked\"])\n",
    "\n",
    "train_dt.info()"
   ]
  },
  {
   "cell_type": "code",
   "execution_count": 235,
   "metadata": {},
   "outputs": [
    {
     "data": {
      "text/html": [
       "<div>\n",
       "<style scoped>\n",
       "    .dataframe tbody tr th:only-of-type {\n",
       "        vertical-align: middle;\n",
       "    }\n",
       "\n",
       "    .dataframe tbody tr th {\n",
       "        vertical-align: top;\n",
       "    }\n",
       "\n",
       "    .dataframe thead th {\n",
       "        text-align: right;\n",
       "    }\n",
       "</style>\n",
       "<table border=\"1\" class=\"dataframe\">\n",
       "  <thead>\n",
       "    <tr style=\"text-align: right;\">\n",
       "      <th></th>\n",
       "      <th>surv</th>\n",
       "      <th>class</th>\n",
       "      <th>name</th>\n",
       "      <th>sex</th>\n",
       "      <th>age</th>\n",
       "      <th>sib</th>\n",
       "      <th>parch</th>\n",
       "      <th>ticket</th>\n",
       "      <th>fare</th>\n",
       "      <th>cabin</th>\n",
       "      <th>embarked</th>\n",
       "    </tr>\n",
       "    <tr>\n",
       "      <th>pass_num</th>\n",
       "      <th></th>\n",
       "      <th></th>\n",
       "      <th></th>\n",
       "      <th></th>\n",
       "      <th></th>\n",
       "      <th></th>\n",
       "      <th></th>\n",
       "      <th></th>\n",
       "      <th></th>\n",
       "      <th></th>\n",
       "      <th></th>\n",
       "    </tr>\n",
       "  </thead>\n",
       "  <tbody>\n",
       "    <tr>\n",
       "      <td>1</td>\n",
       "      <td>0</td>\n",
       "      <td>3</td>\n",
       "      <td>Braund, Mr. Owen Harris</td>\n",
       "      <td>male</td>\n",
       "      <td>22.0</td>\n",
       "      <td>1</td>\n",
       "      <td>0</td>\n",
       "      <td>A/5 21171</td>\n",
       "      <td>7.2500</td>\n",
       "      <td>NaN</td>\n",
       "      <td>S</td>\n",
       "    </tr>\n",
       "    <tr>\n",
       "      <td>2</td>\n",
       "      <td>1</td>\n",
       "      <td>1</td>\n",
       "      <td>Cumings, Mrs. John Bradley (Florence Briggs Th...</td>\n",
       "      <td>female</td>\n",
       "      <td>38.0</td>\n",
       "      <td>1</td>\n",
       "      <td>0</td>\n",
       "      <td>PC 17599</td>\n",
       "      <td>71.2833</td>\n",
       "      <td>C85</td>\n",
       "      <td>C</td>\n",
       "    </tr>\n",
       "    <tr>\n",
       "      <td>3</td>\n",
       "      <td>1</td>\n",
       "      <td>3</td>\n",
       "      <td>Heikkinen, Miss. Laina</td>\n",
       "      <td>female</td>\n",
       "      <td>26.0</td>\n",
       "      <td>0</td>\n",
       "      <td>0</td>\n",
       "      <td>STON/O2. 3101282</td>\n",
       "      <td>7.9250</td>\n",
       "      <td>NaN</td>\n",
       "      <td>S</td>\n",
       "    </tr>\n",
       "    <tr>\n",
       "      <td>4</td>\n",
       "      <td>1</td>\n",
       "      <td>1</td>\n",
       "      <td>Futrelle, Mrs. Jacques Heath (Lily May Peel)</td>\n",
       "      <td>female</td>\n",
       "      <td>35.0</td>\n",
       "      <td>1</td>\n",
       "      <td>0</td>\n",
       "      <td>113803</td>\n",
       "      <td>53.1000</td>\n",
       "      <td>C123</td>\n",
       "      <td>S</td>\n",
       "    </tr>\n",
       "    <tr>\n",
       "      <td>5</td>\n",
       "      <td>0</td>\n",
       "      <td>3</td>\n",
       "      <td>Allen, Mr. William Henry</td>\n",
       "      <td>male</td>\n",
       "      <td>35.0</td>\n",
       "      <td>0</td>\n",
       "      <td>0</td>\n",
       "      <td>373450</td>\n",
       "      <td>8.0500</td>\n",
       "      <td>NaN</td>\n",
       "      <td>S</td>\n",
       "    </tr>\n",
       "    <tr>\n",
       "      <td>6</td>\n",
       "      <td>0</td>\n",
       "      <td>3</td>\n",
       "      <td>Moran, Mr. James</td>\n",
       "      <td>male</td>\n",
       "      <td>NaN</td>\n",
       "      <td>0</td>\n",
       "      <td>0</td>\n",
       "      <td>330877</td>\n",
       "      <td>8.4583</td>\n",
       "      <td>NaN</td>\n",
       "      <td>Q</td>\n",
       "    </tr>\n",
       "    <tr>\n",
       "      <td>7</td>\n",
       "      <td>0</td>\n",
       "      <td>1</td>\n",
       "      <td>McCarthy, Mr. Timothy J</td>\n",
       "      <td>male</td>\n",
       "      <td>54.0</td>\n",
       "      <td>0</td>\n",
       "      <td>0</td>\n",
       "      <td>17463</td>\n",
       "      <td>51.8625</td>\n",
       "      <td>E46</td>\n",
       "      <td>S</td>\n",
       "    </tr>\n",
       "    <tr>\n",
       "      <td>8</td>\n",
       "      <td>0</td>\n",
       "      <td>3</td>\n",
       "      <td>Palsson, Master. Gosta Leonard</td>\n",
       "      <td>male</td>\n",
       "      <td>2.0</td>\n",
       "      <td>3</td>\n",
       "      <td>1</td>\n",
       "      <td>349909</td>\n",
       "      <td>21.0750</td>\n",
       "      <td>NaN</td>\n",
       "      <td>S</td>\n",
       "    </tr>\n",
       "    <tr>\n",
       "      <td>9</td>\n",
       "      <td>1</td>\n",
       "      <td>3</td>\n",
       "      <td>Johnson, Mrs. Oscar W (Elisabeth Vilhelmina Berg)</td>\n",
       "      <td>female</td>\n",
       "      <td>27.0</td>\n",
       "      <td>0</td>\n",
       "      <td>2</td>\n",
       "      <td>347742</td>\n",
       "      <td>11.1333</td>\n",
       "      <td>NaN</td>\n",
       "      <td>S</td>\n",
       "    </tr>\n",
       "    <tr>\n",
       "      <td>10</td>\n",
       "      <td>1</td>\n",
       "      <td>2</td>\n",
       "      <td>Nasser, Mrs. Nicholas (Adele Achem)</td>\n",
       "      <td>female</td>\n",
       "      <td>14.0</td>\n",
       "      <td>1</td>\n",
       "      <td>0</td>\n",
       "      <td>237736</td>\n",
       "      <td>30.0708</td>\n",
       "      <td>NaN</td>\n",
       "      <td>C</td>\n",
       "    </tr>\n",
       "  </tbody>\n",
       "</table>\n",
       "</div>"
      ],
      "text/plain": [
       "          surv  class                                               name  \\\n",
       "pass_num                                                                   \n",
       "1            0      3                            Braund, Mr. Owen Harris   \n",
       "2            1      1  Cumings, Mrs. John Bradley (Florence Briggs Th...   \n",
       "3            1      3                             Heikkinen, Miss. Laina   \n",
       "4            1      1       Futrelle, Mrs. Jacques Heath (Lily May Peel)   \n",
       "5            0      3                           Allen, Mr. William Henry   \n",
       "6            0      3                                   Moran, Mr. James   \n",
       "7            0      1                            McCarthy, Mr. Timothy J   \n",
       "8            0      3                     Palsson, Master. Gosta Leonard   \n",
       "9            1      3  Johnson, Mrs. Oscar W (Elisabeth Vilhelmina Berg)   \n",
       "10           1      2                Nasser, Mrs. Nicholas (Adele Achem)   \n",
       "\n",
       "             sex   age  sib  parch            ticket     fare cabin embarked  \n",
       "pass_num                                                                      \n",
       "1           male  22.0    1      0         A/5 21171   7.2500   NaN        S  \n",
       "2         female  38.0    1      0          PC 17599  71.2833   C85        C  \n",
       "3         female  26.0    0      0  STON/O2. 3101282   7.9250   NaN        S  \n",
       "4         female  35.0    1      0            113803  53.1000  C123        S  \n",
       "5           male  35.0    0      0            373450   8.0500   NaN        S  \n",
       "6           male   NaN    0      0            330877   8.4583   NaN        Q  \n",
       "7           male  54.0    0      0             17463  51.8625   E46        S  \n",
       "8           male   2.0    3      1            349909  21.0750   NaN        S  \n",
       "9         female  27.0    0      2            347742  11.1333   NaN        S  \n",
       "10        female  14.0    1      0            237736  30.0708   NaN        C  "
      ]
     },
     "execution_count": 235,
     "metadata": {},
     "output_type": "execute_result"
    }
   ],
   "source": [
    "train_dt=train_dt.set_index(\"pass_num\")\n",
    "\n",
    "train_dt.head(10)"
   ]
  },
  {
   "cell_type": "code",
   "execution_count": 1,
   "metadata": {},
   "outputs": [],
   "source": [
    "\n",
    "#train_dt.plot(kind='bar',x='sex',y='surv')\n",
    "#plt.show()"
   ]
  },
  {
   "cell_type": "code",
   "execution_count": 55,
   "metadata": {
    "scrolled": true
   },
   "outputs": [
    {
     "data": {
      "image/png": "[encoded data removed]",
      "text/plain": [
       "<Figure size 432x288 with 1 Axes>"
      ]
     },
     "metadata": {
      "needs_background": "light"
     },
     "output_type": "display_data"
    }
   ],
   "source": [
    "\n",
    "train_dt.plot(kind='scatter',x='surv',y='age')\n",
    "plt.show()"
   ]
  },
  {
   "cell_type": "code",
   "execution_count": 6,
   "metadata": {},
   "outputs": [
    {
     "data": {
      "image/png": "[encoded data removed]",
      "text/plain": [
       "<Figure size 432x288 with 1 Axes>"
      ]
     },
     "metadata": {
      "needs_background": "light"
     },
     "output_type": "display_data"
    }
   ],
   "source": [
    "train_dt.plot(kind='scatter',x='class',y='surv')\n",
    "plt.show()"
   ]
  },
  {
   "cell_type": "code",
   "execution_count": 7,
   "metadata": {},
   "outputs": [
    {
     "name": "stdout",
     "output_type": "stream",
     "text": [
      "314\n",
      "233\n",
      "Total Female Survived: 74 %\n"
     ]
    }
   ],
   "source": [
    "total_f=0\n",
    "surv_f=0\n",
    "sex_data=list(train_dt['sex'])\n",
    "surv_data=list(train_dt['surv'])\n",
    "for count in range(len(sex_data)):  \n",
    "    if sex_data[count]=='female':\n",
    "        total_f+=1\n",
    "        if surv_data[count]==1:\n",
    "            surv_f+=1\n",
    "        \n",
    "print(total_f)\n",
    "print(surv_f)\n",
    "print(\"Total Female Survived: %2.f\"%((surv_f/total_f)*100),'%')"
   ]
  },
  {
   "cell_type": "code",
   "execution_count": 213,
   "metadata": {},
   "outputs": [
    {
     "name": "stdout",
     "output_type": "stream",
     "text": [
      "577\n",
      "109\n",
      "Total Male Survived: 19 %\n"
     ]
    }
   ],
   "source": [
    "total_m=0\n",
    "surv_m=0\n",
    "sex_data=list(train_dt['sex'])\n",
    "surv_data=list(train_dt['surv'])\n",
    "for count in range(len(sex_data)):  \n",
    "    if sex_data[count]=='male':\n",
    "        total_m+=1\n",
    "        if surv_data[count]==1:\n",
    "            surv_m+=1\n",
    "        \n",
    "print(total_m)\n",
    "print(surv_m)\n",
    "print(\"Total Male Survived: %2.f\"%((surv_m/total_m)*100),'%')"
   ]
  },
  {
   "cell_type": "code",
   "execution_count": 237,
   "metadata": {},
   "outputs": [
    {
     "name": "stdout",
     "output_type": "stream",
     "text": [
      "119\n"
     ]
    }
   ],
   "source": [
    "surv_c=0\n",
    "class_data=list(train_dt['class'])\n",
    "surv_data=list(train_dt['surv'])\n",
    "for count in range(len(class_data)):  \n",
    "    if class_data[count]==3:\n",
    "        if surv_data[count]==1:\n",
    "            surv_c+=1\n",
    "        \n",
    "print(surv_c)\n"
   ]
  },
  {
   "cell_type": "code",
   "execution_count": 238,
   "metadata": {},
   "outputs": [
    {
     "name": "stdout",
     "output_type": "stream",
     "text": [
      "87\n"
     ]
    }
   ],
   "source": [
    "surv_c=0\n",
    "class_data=list(train_dt['class'])\n",
    "surv_data=list(train_dt['surv'])\n",
    "for count in range(len(class_data)):  \n",
    "    if class_data[count]==2:\n",
    "       if surv_data[count]==1:\n",
    "            surv_c+=1\n",
    "        \n",
    "print(surv_c)\n"
   ]
  },
  {
   "cell_type": "code",
   "execution_count": 239,
   "metadata": {},
   "outputs": [
    {
     "name": "stdout",
     "output_type": "stream",
     "text": [
      "136\n"
     ]
    }
   ],
   "source": [
    "surv_c=0\n",
    "class_data=list(train_dt['class'])\n",
    "surv_data=list(train_dt['surv'])\n",
    "for count in range(len(class_data)):  \n",
    "    if class_data[count]==1:\n",
    "       if surv_data[count]==1:\n",
    "            surv_c+=1\n",
    "        \n",
    "print(surv_c)\n"
   ]
  },
  {
   "cell_type": "code",
   "execution_count": 12,
   "metadata": {},
   "outputs": [
    {
     "name": "stdout",
     "output_type": "stream",
     "text": [
      "29.69911764705882\n"
     ]
    }
   ],
   "source": [
    "age_mean=train_dt['age'].mean()\n",
    "age_std=train_dt['age'].std()\n",
    "age_std\n",
    "#train_dt.plot(kind='scatter',x='pass_num',y='age')\n",
    "#plt.plot()\n",
    "print(age_mean)"
   ]
  },
  {
   "cell_type": "code",
   "execution_count": 13,
   "metadata": {},
   "outputs": [
    {
     "name": "stdout",
     "output_type": "stream",
     "text": [
      "<class 'pandas.core.frame.DataFrame'>\n",
      "Int64Index: 891 entries, 1 to 891\n",
      "Data columns (total 10 columns):\n",
      "surv        891 non-null int64\n",
      "class       891 non-null int64\n",
      "name        891 non-null object\n",
      "sex         891 non-null object\n",
      "age         714 non-null float64\n",
      "sib         891 non-null int64\n",
      "parch       891 non-null int64\n",
      "ticket      891 non-null object\n",
      "fare        891 non-null float64\n",
      "embarked    889 non-null object\n",
      "dtypes: float64(2), int64(4), object(4)\n",
      "memory usage: 76.6+ KB\n"
     ]
    }
   ],
   "source": [
    "train_dt=train_dt.drop(['cabin'],axis=1)\n",
    "train_dt.info()"
   ]
  },
  {
   "cell_type": "code",
   "execution_count": 172,
   "metadata": {},
   "outputs": [
    {
     "data": {
      "text/plain": [
       "pandas.core.series.Series"
      ]
     },
     "execution_count": 172,
     "metadata": {},
     "output_type": "execute_result"
    }
   ],
   "source": [
    "train_dt['age']=train_dt['age'].fillna(0)\n",
    "#train_dt=train_dt.dropna()\n",
    "#train_dt.info()\n",
    "type(train_dt['age'])"
   ]
  },
  {
   "cell_type": "code",
   "execution_count": 163,
   "metadata": {},
   "outputs": [
    {
     "data": {
      "text/plain": [
       "314"
      ]
     },
     "execution_count": 163,
     "metadata": {},
     "output_type": "execute_result"
    }
   ],
   "source": [
    "men_age=[]\n",
    "female_age=[]\n",
    "nan_m=0\n",
    "age_data=list(train_dt['age'])\n",
    "for c_age in range(891):\n",
    "    if sex_data[c_age]=='male':\n",
    "        #if age_data[c_age]=='nan':\n",
    "            #nan_m+=1\n",
    "        #else:\n",
    "        men_age.append(age_data[c_age])\n",
    "    elif sex_data[c_age]=='female':\n",
    "        female_age.append(age_data[c_age])\n",
    "        \n",
    "len(men_age)\n",
    "len(female_age)"
   ]
  },
  {
   "cell_type": "code",
   "execution_count": 81,
   "metadata": {},
   "outputs": [],
   "source": [
    "#for c_age in train_dt[\"pass_num\"]:\n",
    " #   print(c_age)\n"
   ]
  },
  {
   "cell_type": "code",
   "execution_count": 137,
   "metadata": {},
   "outputs": [
    {
     "data": {
      "text/plain": [
       "30.72664459161148"
      ]
     },
     "execution_count": 137,
     "metadata": {},
     "output_type": "execute_result"
    }
   ],
   "source": [
    "for value in range(1,len(men_age)):\n",
    "\n",
    "    if men_age[value] <= 0:\n",
    "        del men_age[value]\n",
    "\n",
    "mean_menage=np.mean(men_age)\n",
    "mean_menage"
   ]
  },
  {
   "cell_type": "code",
   "execution_count": 118,
   "metadata": {},
   "outputs": [
    {
     "data": {
      "text/plain": [
       "27.915708812260537"
      ]
     },
     "execution_count": 118,
     "metadata": {},
     "output_type": "execute_result"
    }
   ],
   "source": [
    "for value_f in range(len(female_age)):\n",
    "\n",
    "    if female_age[value_f] <= 0:\n",
    "        del female_age[value_f]\n",
    "\n",
    "mean_femage=np.mean(female_age)\n",
    "mean_femage"
   ]
  },
  {
   "cell_type": "code",
   "execution_count": 212,
   "metadata": {},
   "outputs": [
    {
     "data": {
      "text/html": [
       "<div>\n",
       "<style scoped>\n",
       "    .dataframe tbody tr th:only-of-type {\n",
       "        vertical-align: middle;\n",
       "    }\n",
       "\n",
       "    .dataframe tbody tr th {\n",
       "        vertical-align: top;\n",
       "    }\n",
       "\n",
       "    .dataframe thead th {\n",
       "        text-align: right;\n",
       "    }\n",
       "</style>\n",
       "<table border=\"1\" class=\"dataframe\">\n",
       "  <thead>\n",
       "    <tr style=\"text-align: right;\">\n",
       "      <th></th>\n",
       "      <th>surv</th>\n",
       "      <th>class</th>\n",
       "      <th>name</th>\n",
       "      <th>sex</th>\n",
       "      <th>age</th>\n",
       "      <th>sib</th>\n",
       "      <th>parch</th>\n",
       "      <th>ticket</th>\n",
       "      <th>fare</th>\n",
       "      <th>cabin</th>\n",
       "      <th>embarked</th>\n",
       "    </tr>\n",
       "    <tr>\n",
       "      <th>pass_num</th>\n",
       "      <th></th>\n",
       "      <th></th>\n",
       "      <th></th>\n",
       "      <th></th>\n",
       "      <th></th>\n",
       "      <th></th>\n",
       "      <th></th>\n",
       "      <th></th>\n",
       "      <th></th>\n",
       "      <th></th>\n",
       "      <th></th>\n",
       "    </tr>\n",
       "  </thead>\n",
       "  <tbody>\n",
       "    <tr>\n",
       "      <td>1</td>\n",
       "      <td>0</td>\n",
       "      <td>3</td>\n",
       "      <td>Braund, Mr. Owen Harris</td>\n",
       "      <td>male</td>\n",
       "      <td>22.0</td>\n",
       "      <td>1</td>\n",
       "      <td>0</td>\n",
       "      <td>A/5 21171</td>\n",
       "      <td>7.2500</td>\n",
       "      <td>NaN</td>\n",
       "      <td>S</td>\n",
       "    </tr>\n",
       "    <tr>\n",
       "      <td>2</td>\n",
       "      <td>1</td>\n",
       "      <td>1</td>\n",
       "      <td>Cumings, Mrs. John Bradley (Florence Briggs Th...</td>\n",
       "      <td>female</td>\n",
       "      <td>38.0</td>\n",
       "      <td>1</td>\n",
       "      <td>0</td>\n",
       "      <td>PC 17599</td>\n",
       "      <td>71.2833</td>\n",
       "      <td>C85</td>\n",
       "      <td>C</td>\n",
       "    </tr>\n",
       "    <tr>\n",
       "      <td>3</td>\n",
       "      <td>1</td>\n",
       "      <td>3</td>\n",
       "      <td>Heikkinen, Miss. Laina</td>\n",
       "      <td>female</td>\n",
       "      <td>26.0</td>\n",
       "      <td>0</td>\n",
       "      <td>0</td>\n",
       "      <td>STON/O2. 3101282</td>\n",
       "      <td>7.9250</td>\n",
       "      <td>NaN</td>\n",
       "      <td>S</td>\n",
       "    </tr>\n",
       "    <tr>\n",
       "      <td>4</td>\n",
       "      <td>1</td>\n",
       "      <td>1</td>\n",
       "      <td>Futrelle, Mrs. Jacques Heath (Lily May Peel)</td>\n",
       "      <td>female</td>\n",
       "      <td>35.0</td>\n",
       "      <td>1</td>\n",
       "      <td>0</td>\n",
       "      <td>113803</td>\n",
       "      <td>53.1000</td>\n",
       "      <td>C123</td>\n",
       "      <td>S</td>\n",
       "    </tr>\n",
       "    <tr>\n",
       "      <td>5</td>\n",
       "      <td>0</td>\n",
       "      <td>3</td>\n",
       "      <td>Allen, Mr. William Henry</td>\n",
       "      <td>male</td>\n",
       "      <td>35.0</td>\n",
       "      <td>0</td>\n",
       "      <td>0</td>\n",
       "      <td>373450</td>\n",
       "      <td>8.0500</td>\n",
       "      <td>NaN</td>\n",
       "      <td>S</td>\n",
       "    </tr>\n",
       "  </tbody>\n",
       "</table>\n",
       "</div>"
      ],
      "text/plain": [
       "          surv  class                                               name  \\\n",
       "pass_num                                                                   \n",
       "1            0      3                            Braund, Mr. Owen Harris   \n",
       "2            1      1  Cumings, Mrs. John Bradley (Florence Briggs Th...   \n",
       "3            1      3                             Heikkinen, Miss. Laina   \n",
       "4            1      1       Futrelle, Mrs. Jacques Heath (Lily May Peel)   \n",
       "5            0      3                           Allen, Mr. William Henry   \n",
       "\n",
       "             sex   age  sib  parch            ticket     fare cabin embarked  \n",
       "pass_num                                                                      \n",
       "1           male  22.0    1      0         A/5 21171   7.2500   NaN        S  \n",
       "2         female  38.0    1      0          PC 17599  71.2833   C85        C  \n",
       "3         female  26.0    0      0  STON/O2. 3101282   7.9250   NaN        S  \n",
       "4         female  35.0    1      0            113803  53.1000  C123        S  \n",
       "5           male  35.0    0      0            373450   8.0500   NaN        S  "
      ]
     },
     "execution_count": 212,
     "metadata": {},
     "output_type": "execute_result"
    }
   ],
   "source": [
    "for age_f in range(1,891):\n",
    "    if train_dt['sex'][age_f]==\"male\" and train_dt['age'][age_f]<=0:\n",
    "            train_dt['age'].replace(0.0,31, inplace=True)\n",
    "    elif train_dt['sex'][age_f]==\"female\" and train_dt['age'][age_f]<=0:\n",
    "            train_dt['age'].replace(0.0,28, inplace=True)\n",
    "\n",
    "train_dt.head(5)\n",
    "\n",
    "        "
   ]
  },
  {
   "cell_type": "code",
   "execution_count": 178,
   "metadata": {},
   "outputs": [
    {
     "data": {
      "text/plain": [
       "35.0"
      ]
     },
     "execution_count": 178,
     "metadata": {},
     "output_type": "execute_result"
    }
   ],
   "source": [
    "train_dt['age'][5]"
   ]
  },
  {
   "cell_type": "code",
   "execution_count": 206,
   "metadata": {},
   "outputs": [
    {
     "name": "stdout",
     "output_type": "stream",
     "text": [
      "577 314\n",
      "94 76 144\n",
      "91 70 72\n",
      "First class female survivors 0.97\n",
      "Second class female survivors 0.92\n",
      "Third class female survivors 0.5\n"
     ]
    }
   ],
   "source": [
    "total_f1=0\n",
    "total_f2=0\n",
    "total_f3=0\n",
    "\n",
    "surv_f1=0\n",
    "surv_f2=0\n",
    "surv_f3=0\n",
    "male_t=0\n",
    "tt_f=0\n",
    "\n",
    "sex_data=list(train_dt['sex'])\n",
    "class_data=list(train_dt['class'])\n",
    "surv_data=list(train_dt['surv'])\n",
    "\n",
    "for count1 in range(891):  \n",
    "    if sex_data[count1]=='female':\n",
    "        tt_f+=1\n",
    "        if class_data[count1]==1:\n",
    "            total_f1+=1\n",
    "            if surv_data[count1]==1:\n",
    "                surv_f1+=1\n",
    "        elif class_data[count1]==2:\n",
    "            total_f2+=1\n",
    "            if surv_data[count1]==1:\n",
    "                surv_f2+=1\n",
    "        elif class_data[count1]==3:\n",
    "            total_f3+=1\n",
    "            if surv_data[count1]==1:\n",
    "                surv_f3+=1\n",
    "    else:\n",
    "        male_t+=1\n",
    "        \n",
    "print(male_t,tt_f)\n",
    "print(total_f1,total_f2,total_f3)\n",
    "print(surv_f1,surv_f2,surv_f3)\n",
    "\n",
    "f1_s=round((surv_f1/total_f1),2)\n",
    "f2_s=round((surv_f2/total_f2),2)\n",
    "f3_s=round((surv_f3/total_f3),2)\n",
    "\n",
    "print(\"First class female survivors\",f1_s)\n",
    "print(\"Second class female survivors\",f2_s)\n",
    "print(\"Third class female survivors\",f3_s)\n"
   ]
  },
  {
   "cell_type": "code",
   "execution_count": 214,
   "metadata": {},
   "outputs": [
    {
     "name": "stdout",
     "output_type": "stream",
     "text": [
      "139 70\n",
      "Children survival: 0.5035971223021583\n"
     ]
    }
   ],
   "source": [
    "surv_ch=0\n",
    "total_ch=0\n",
    "age_data=list(train_dt['age'])\n",
    "surv_data=list(train_dt['surv'])\n",
    "for counta in range(891):  \n",
    "    if age_data[counta]<=18:\n",
    "        total_ch+=1\n",
    "        if surv_data[counta]==1:\n",
    "            surv_ch+=1\n",
    "\n",
    "print(total_ch,surv_ch)\n",
    "\n",
    "print(\"Total Children survival:\",surv_ch/total_ch)"
   ]
  },
  {
   "cell_type": "code",
   "execution_count": 243,
   "metadata": {},
   "outputs": [
    {
     "name": "stdout",
     "output_type": "stream",
     "text": [
      "5 6 19 19 25 58\n",
      "First class child survivors 0.83\n",
      "Second class child survivors 1.0\n",
      "Third class child survivors 0.43\n"
     ]
    }
   ],
   "source": [
    "total_c1=0\n",
    "total_c2=0\n",
    "total_c3=0\n",
    "\n",
    "surv_c1=0\n",
    "surv_c2=0\n",
    "surv_c3=0\n",
    "\n",
    "for countc in range(891):  \n",
    "    if age_data[countc]<=15:\n",
    "        tt_f+=1\n",
    "        if class_data[countc]==1:\n",
    "            total_c1+=1\n",
    "            if surv_data[countc]==1:\n",
    "                surv_c1+=1\n",
    "        elif class_data[countc]==2:\n",
    "            total_c2+=1\n",
    "            if surv_data[countc]==1:\n",
    "                surv_c2+=1\n",
    "        elif class_data[countc]==3:\n",
    "            total_c3+=1\n",
    "            if surv_data[countc]==1:\n",
    "                surv_c3+=1\n",
    "                \n",
    "\n",
    "print(surv_c1,total_c1,surv_c2,total_c2,surv_c3,total_c3)                \n",
    "c1_s=round((surv_c1/total_c1),2)\n",
    "c2_s=round((surv_c2/total_c2),2)\n",
    "c3_s=round((surv_c3/total_c3),2)\n",
    "\n",
    "print(\"First class child survivors\",c1_s)\n",
    "print(\"Second class child survivors\",c2_s)\n",
    "print(\"Third class child survivors\",c3_s)               \n",
    "    "
   ]
  },
  {
   "cell_type": "code",
   "execution_count": 225,
   "metadata": {},
   "outputs": [
    {
     "name": "stdout",
     "output_type": "stream",
     "text": [
      "45 122 17 108 47 347\n",
      "First class Male survivors 0.37\n",
      "Second class Male survivors 0.16\n",
      "Third class Male survivors 0.14\n"
     ]
    }
   ],
   "source": [
    "total_m1=0\n",
    "total_m2=0\n",
    "total_m3=0\n",
    "\n",
    "surv_m1=0\n",
    "surv_m2=0\n",
    "surv_m3=0\n",
    "\n",
    "for countm in range(891):  \n",
    "    if sex_data[countm]=='male':\n",
    "        \n",
    "        if class_data[countm]==1:\n",
    "            total_m1+=1\n",
    "            if surv_data[countm]==1:\n",
    "                surv_m1+=1\n",
    "        elif class_data[countm]==2:\n",
    "            total_m2+=1\n",
    "            if surv_data[countm]==1:\n",
    "                surv_m2+=1\n",
    "        elif class_data[countm]==3:\n",
    "            total_m3+=1\n",
    "            if surv_data[countm]==1:\n",
    "                surv_m3+=1\n",
    "                \n",
    "\n",
    "print(surv_m1,total_m1,surv_m2,total_m2,surv_m3,total_m3)                \n",
    "m1_s=round((surv_m1/total_m1),2)\n",
    "m2_s=round((surv_m2/total_m2),2)\n",
    "m3_s=round((surv_m3/total_m3),2)\n",
    "\n",
    "print(\"First class Male survivors\",m1_s)\n",
    "print(\"Second class Male survivors\",m2_s)\n",
    "print(\"Third class Male survivors\",m3_s)"
   ]
  }
 ],
 "metadata": {
  "kernelspec": {
   "display_name": "Python 3",
   "language": "python",
   "name": "python3"
  },
  "language_info": {
   "codemirror_mode": {
    "name": "ipython",
    "version": 3
   },
   "file_extension": ".py",
   "mimetype": "text/x-python",
   "name": "python",
   "nbconvert_exporter": "python",
   "pygments_lexer": "ipython3",
   "version": "3.7.6"
  }
 },
 "nbformat": 4,
 "nbformat_minor": 2
}
